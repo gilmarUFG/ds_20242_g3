{
 "cells": [
  {
   "cell_type": "code",
   "execution_count": null,
   "id": "9f630ece-3356-405c-af0d-95a0a9dc8129",
   "metadata": {},
   "outputs": [],
   "source": [
    "import pandas as pd"
   ]
  },
  {
   "cell_type": "code",
   "execution_count": 8,
   "id": "bbfc7bae-4018-455e-b30f-c52d480ba96c",
   "metadata": {},
   "outputs": [],
   "source": [
    "import tensorflow as tf"
   ]
  },
  {
   "cell_type": "code",
   "execution_count": 10,
   "id": "fa61d941-d435-45a2-a16e-99a78f549a35",
   "metadata": {},
   "outputs": [],
   "source": [
    "from keras.models import load_model"
   ]
  },
  {
   "cell_type": "code",
   "execution_count": 12,
   "id": "c72f7c14-14b0-4f09-a1df-c16da1635c62",
   "metadata": {},
   "outputs": [],
   "source": [
    "class L2Normalize(tf.keras.layers.Layer):\n",
    "    def __init__(self, axis=1, **kwargs):\n",
    "        super(L2Normalize, self).__init__(**kwargs)\n",
    "        self.axis = axis\n",
    "\n",
    "    def call(self, inputs):\n",
    "        return tf.linalg.l2_normalize(inputs, axis=self.axis)\n",
    "\n",
    "    def get_config(self):\n",
    "        config = super(L2Normalize, self).get_config()\n",
    "        config.update({\"axis\": self.axis})\n",
    "        return config\n",
    "\n",
    "    @classmethod\n",
    "    def from_config(cls, config):\n",
    "        return cls(**config)"
   ]
  },
  {
   "cell_type": "code",
   "execution_count": 14,
   "id": "a079bf88-0a0e-4282-a3b5-52c328a2076c",
   "metadata": {},
   "outputs": [
    {
     "name": "stdout",
     "output_type": "stream",
     "text": [
      "WARNING:tensorflow:From C:\\Users\\joao.franca\\AppData\\Roaming\\Python\\Python312\\site-packages\\keras\\src\\backend\\tensorflow\\core.py:204: The name tf.placeholder is deprecated. Please use tf.compat.v1.placeholder instead.\n",
      "\n"
     ]
    }
   ],
   "source": [
    "model = load_model(\"./best_model.keras\", custom_objects={\"L2Normalize\": L2Normalize})"
   ]
  },
  {
   "cell_type": "code",
   "execution_count": null,
   "id": "e165a06c-3a2c-450a-90b1-c869b7dd7f94",
   "metadata": {},
   "outputs": [],
   "source": [
    "id_movielens = pd.read_csv(\"./movielens/links.csv\")"
   ]
  },
  {
   "cell_type": "code",
   "execution_count": null,
   "id": "496cba87-ff77-42a7-9b09-f634b9fbd916",
   "metadata": {},
   "outputs": [],
   "source": [
    "id_movielens"
   ]
  },
  {
   "cell_type": "code",
   "execution_count": null,
   "id": "4d09a13e-88f5-4273-a09d-432f909fc836",
   "metadata": {},
   "outputs": [],
   "source": [
    "id_tmdb = pd.read_excel(\"./check.xlsx\", index_col=0)"
   ]
  },
  {
   "cell_type": "code",
   "execution_count": null,
   "id": "0556c528-0b5e-478b-9906-2feb0ba768a1",
   "metadata": {},
   "outputs": [],
   "source": [
    "id_tmdb = id_tmdb.drop(columns=['index', 'vote_count', 'popularity', 'genres', 'overview', 'metadata', 'keywords', 'crew', 'cast', 'year', 'vote_average'])"
   ]
  },
  {
   "cell_type": "code",
   "execution_count": null,
   "id": "18ab6f02-2edd-4eb9-b178-e3802f787d46",
   "metadata": {},
   "outputs": [],
   "source": [
    "id_tmdb"
   ]
  },
  {
   "cell_type": "code",
   "execution_count": null,
   "id": "32072755-2d8c-4e37-88de-a956e2f690f3",
   "metadata": {},
   "outputs": [],
   "source": [
    "id_movielens_filtrado = id_movielens[id_movielens['tmdbId'].isin(id_tmdb['id'])]"
   ]
  },
  {
   "cell_type": "code",
   "execution_count": null,
   "id": "dcb45a4b-b4f7-4a44-bc05-b98a8c9aab31",
   "metadata": {},
   "outputs": [],
   "source": [
    "id_movielens_filtrado"
   ]
  },
  {
   "cell_type": "code",
   "execution_count": null,
   "id": "55f31b55-bea8-44ee-b709-a5f7e66d92d0",
   "metadata": {},
   "outputs": [],
   "source": [
    "ids_nao_correspondentes = id_tmdb[~id_tmdb['id'].isin(id_movielens['tmdbId'])]"
   ]
  },
  {
   "cell_type": "code",
   "execution_count": null,
   "id": "04ac3916-3e78-42af-88dc-7086777de65b",
   "metadata": {},
   "outputs": [],
   "source": [
    "ids_nao_correspondentes"
   ]
  },
  {
   "cell_type": "code",
   "execution_count": null,
   "id": "3e069351-e9e2-40d7-91d5-19f74d30bacc",
   "metadata": {},
   "outputs": [],
   "source": []
  }
 ],
 "metadata": {
  "kernelspec": {
   "display_name": "Python 3 (ipykernel)",
   "language": "python",
   "name": "python3"
  },
  "language_info": {
   "codemirror_mode": {
    "name": "ipython",
    "version": 3
   },
   "file_extension": ".py",
   "mimetype": "text/x-python",
   "name": "python",
   "nbconvert_exporter": "python",
   "pygments_lexer": "ipython3",
   "version": "3.12.4"
  }
 },
 "nbformat": 4,
 "nbformat_minor": 5
}
