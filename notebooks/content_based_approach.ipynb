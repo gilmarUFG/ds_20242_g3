{
 "cells": [
  {
   "cell_type": "raw",
   "id": "67668e0e-7fbf-4a4e-9791-471e942a62da",
   "metadata": {
    "scrolled": true
   },
   "source": [
    "!pip install -U sentence-transformers"
   ]
  },
  {
   "cell_type": "raw",
   "id": "ea50dde9-dcbb-46b6-b20c-ac5aa891dbf9",
   "metadata": {},
   "source": [
    "!pip install tf-keras"
   ]
  },
  {
   "cell_type": "code",
   "execution_count": 1,
   "id": "1ed0adc2-0ee6-4e33-8fd6-ed4ecac24f72",
   "metadata": {},
   "outputs": [
    {
     "name": "stdout",
     "output_type": "stream",
     "text": [
      "WARNING:tensorflow:From C:\\Users\\joao.franca\\AppData\\Roaming\\Python\\Python312\\site-packages\\tf_keras\\src\\losses.py:2976: The name tf.losses.sparse_softmax_cross_entropy is deprecated. Please use tf.compat.v1.losses.sparse_softmax_cross_entropy instead.\n",
      "\n"
     ]
    }
   ],
   "source": [
    "from sentence_transformers import SentenceTransformer"
   ]
  },
  {
   "cell_type": "code",
   "execution_count": 2,
   "id": "b5abd616-2f84-4b9c-aa3a-91efed0ea35f",
   "metadata": {},
   "outputs": [],
   "source": [
    "from ast import literal_eval"
   ]
  },
  {
   "cell_type": "code",
   "execution_count": 5,
   "id": "fb570399-9693-4309-bcad-baf366ff0d95",
   "metadata": {},
   "outputs": [],
   "source": [
    "import pandas as pd\n",
    "import numpy as np\n",
    "from sklearn.metrics.pairwise import cosine_similarity"
   ]
  },
  {
   "cell_type": "code",
   "execution_count": 11,
   "id": "b292ea32-87e0-49b7-9454-33d6ecbf12fd",
   "metadata": {},
   "outputs": [
    {
     "name": "stderr",
     "output_type": "stream",
     "text": [
      "C:\\Users\\joao.franca\\AppData\\Local\\Temp\\ipykernel_28792\\2562282817.py:1: DtypeWarning: Columns (10) have mixed types. Specify dtype option on import or set low_memory=False.\n",
      "  md = pd.read_csv('./data2/movies_metadata.csv') # dataset do tmdb com os filmes que existem tanto nele, quanto no imdb\n"
     ]
    }
   ],
   "source": [
    "md = pd.read_csv('./data2/movies_metadata.csv') # dataset do tmdb com os filmes que existem tanto nele, quanto no imdb"
   ]
  },
  {
   "cell_type": "markdown",
   "id": "7799b781-e1bf-4873-aeab-0c71e0cf7d6a",
   "metadata": {},
   "source": [
    "#### Preprocess"
   ]
  },
  {
   "cell_type": "code",
   "execution_count": 15,
   "id": "6221ed56-b8d8-44e7-a3c9-46b7b69ea191",
   "metadata": {},
   "outputs": [],
   "source": [
    "md.drop(['adult', 'homepage', 'imdb_id', 'poster_path', 'video'] , axis=1, inplace=True)\n",
    "md[md['vote_average'].isna() == True]\n",
    "md.drop(md[md['vote_average'].isna() == True].index, axis=0, inplace=True)\n",
    "md['belongs_to_collection'] = md['belongs_to_collection'].notna().astype('int')\n",
    "md['genres'] = md['genres'].apply(literal_eval).apply(lambda x: [i['name'] for i in x] if isinstance(x, list) else [])\n",
    "md['production_companies'] = md['production_companies'].apply(literal_eval).apply(lambda x: [i['name'] for i in x] if isinstance(x, list) else [])\n",
    "md['production_countries'] = md['production_countries'].apply(literal_eval).apply(lambda x: [i['name'] for i in x] if isinstance(x, list) else [])\n",
    "md['spoken_languages'] = md['spoken_languages'].apply(literal_eval).apply(lambda x: [i['name'] for i in x] if isinstance(x, list) else [])"
   ]
  },
  {
   "cell_type": "markdown",
   "id": "9d8dac0a-356f-427f-abc7-68d0350cad32",
   "metadata": {},
   "source": [
    "#### Feature Engineer"
   ]
  },
  {
   "cell_type": "code",
   "execution_count": 19,
   "id": "588df616-d01c-4635-971f-c7a7c74043c8",
   "metadata": {},
   "outputs": [],
   "source": [
    "md['year'] = pd.to_datetime(md['release_date'], errors='coerce').dt.year.convert_dtypes()\n",
    "md = md[md['status'] == 'Released']\n",
    "del md['status']"
   ]
  },
  {
   "cell_type": "code",
   "execution_count": 21,
   "id": "4f0bd323-6f6e-4e74-b39a-e78393498698",
   "metadata": {},
   "outputs": [
    {
     "data": {
      "text/plain": [
       "(2255, 8)"
      ]
     },
     "execution_count": 21,
     "metadata": {},
     "output_type": "execute_result"
    }
   ],
   "source": [
    "m = round(md['vote_count'].quantile(0.95))  # dica: pegar so filmes com vote_count quantile > 95 (so filmes mainstream)\n",
    "C = round(md['vote_average'].mean(), 1)     # isso fara nosso sistema de rec recomendar só filme mainstream tbm\n",
    "    \n",
    "df = md[(md['vote_count'] >= m)][['id', 'title', 'year', 'vote_count', 'vote_average', 'popularity', 'genres', 'overview']]\n",
    "\n",
    "df.shape"
   ]
  },
  {
   "cell_type": "code",
   "execution_count": 25,
   "id": "a8e4fe14-0467-45b6-bbea-736d658a6b96",
   "metadata": {
    "scrolled": true
   },
   "outputs": [],
   "source": [
    "# features para ajudar > recomendacoes baseadas em keywords e elenco (creditos) daquele filme\n",
    "credits = pd.read_csv('./data2/credits.csv')\n",
    "keywords = pd.read_csv('./data2/keywords.csv')\n",
    "\n",
    "credits.drop_duplicates(inplace = True)\n",
    "keywords.drop_duplicates(inplace = True)"
   ]
  },
  {
   "cell_type": "code",
   "execution_count": 27,
   "id": "296c5c18-e801-4f5c-8446-a3d1b046145e",
   "metadata": {},
   "outputs": [],
   "source": [
    "keywords['id'] = keywords['id'].astype('int')\n",
    "credits['id'] = credits['id'].astype('int')\n",
    "df['id'] = df['id'].astype('int')"
   ]
  },
  {
   "cell_type": "code",
   "execution_count": 29,
   "id": "8bca323b-a540-4c96-a8cf-361d3302c0e9",
   "metadata": {},
   "outputs": [],
   "source": [
    "df = df.merge(credits, on='id')\n",
    "df = df.merge(keywords, on='id')"
   ]
  },
  {
   "cell_type": "code",
   "execution_count": 31,
   "id": "4b0ced35-29ca-4134-9bf7-16736b5101e9",
   "metadata": {},
   "outputs": [],
   "source": [
    "df['cast'] = df['cast'].apply(literal_eval).apply(lambda x: [i['name'] for i in x] if isinstance(x, list) else [])\n",
    "df['cast'] = df['cast'].apply(lambda x: x[:5] if len(x) >=5 else x)"
   ]
  },
  {
   "cell_type": "code",
   "execution_count": 33,
   "id": "db3fd836-72f2-4a0d-a509-c9d8c4264f9a",
   "metadata": {},
   "outputs": [],
   "source": [
    "df['keywords'] = df['keywords'].apply(literal_eval).apply(lambda x: [i['name'] for i in x] if isinstance(x, list) else [])"
   ]
  },
  {
   "cell_type": "code",
   "execution_count": 35,
   "id": "ca6efd71-eb35-46cf-9ecb-cba1fd095a5a",
   "metadata": {},
   "outputs": [],
   "source": [
    "def get_director(x):\n",
    "    for i in x:\n",
    "        if i['job'] == 'Director':\n",
    "            return i['name']\n",
    "    return np.nan\n",
    "\n",
    "df['director'] = df['crew'].apply(literal_eval).apply(get_director)"
   ]
  },
  {
   "cell_type": "code",
   "execution_count": 37,
   "id": "089ebc0d-a4c4-423e-8ee5-80e7b3b0fda8",
   "metadata": {},
   "outputs": [],
   "source": [
    "# Removing space between names in order to differentiate between different actors and directors\n",
    "\n",
    "df['cast'] = df['cast'].apply(lambda x: [str.lower(i.replace(\" \", \"\")) for i in x])\n",
    "df['director'] = df['director'].astype('str').apply(lambda x: str.lower(x.replace(\" \", \"\")))"
   ]
  },
  {
   "cell_type": "code",
   "execution_count": 39,
   "id": "e83eba38-78be-4921-8f45-5064ba6c76d8",
   "metadata": {},
   "outputs": [],
   "source": [
    "# Changing the datatype to list to enable concatenation\n",
    "df['director'] = df['director'].apply(lambda x: [i for i in x.split()])\n",
    "\n",
    "# Creating a new column by concatenating all the relavant metadata info\n",
    "df['metadata'] = df['genres'] + df['keywords'] + df['director'] + df['cast']\n",
    "\n",
    "# Taking all the items in the metadata and joining it into a single string\n",
    "df['metadata'] = df['metadata'].apply(lambda x: ' '.join(x))"
   ]
  },
  {
   "cell_type": "code",
   "execution_count": 79,
   "id": "88fbcd5d-4fc0-4c85-a680-b71848891022",
   "metadata": {},
   "outputs": [],
   "source": [
    "df.to_excel(\"check.xlsx\")"
   ]
  },
  {
   "cell_type": "code",
   "execution_count": 41,
   "id": "80375940-212c-4038-8f91-13fadc7b26c4",
   "metadata": {
    "scrolled": true
   },
   "outputs": [
    {
     "name": "stderr",
     "output_type": "stream",
     "text": [
      "C:\\Users\\joao.franca\\AppData\\Roaming\\Python\\Python312\\site-packages\\transformers\\tokenization_utils_base.py:1601: FutureWarning: `clean_up_tokenization_spaces` was not set. It will be set to `True` by default. This behavior will be depracted in transformers v4.45, and will be then set to `False` by default. For more details check this issue: https://github.com/huggingface/transformers/issues/31884\n",
      "  warnings.warn(\n"
     ]
    }
   ],
   "source": [
    "model = SentenceTransformer('all-mpnet-base-v2')"
   ]
  },
  {
   "cell_type": "code",
   "execution_count": 45,
   "id": "64b4c416-f987-48fc-9168-e50517674760",
   "metadata": {},
   "outputs": [
    {
     "data": {
      "application/vnd.jupyter.widget-view+json": {
       "model_id": "4f33b35a7ac24b5aba00be19368ddcd7",
       "version_major": 2,
       "version_minor": 0
      },
      "text/plain": [
       "Batches:   0%|          | 0/71 [00:00<?, ?it/s]"
      ]
     },
     "metadata": {},
     "output_type": "display_data"
    }
   ],
   "source": [
    "meta_data = np.array(df['metadata'])\n",
    "embeddings = model.encode(meta_data, show_progress_bar=True)"
   ]
  },
  {
   "cell_type": "code",
   "execution_count": 47,
   "id": "ab16cb87-16a2-4daf-b992-e653abd571a0",
   "metadata": {},
   "outputs": [
    {
     "data": {
      "text/plain": [
       "<bound method SentenceTransformer.get_sentence_features of SentenceTransformer(\n",
       "  (0): Transformer({'max_seq_length': 384, 'do_lower_case': False}) with Transformer model: MPNetModel \n",
       "  (1): Pooling({'word_embedding_dimension': 768, 'pooling_mode_cls_token': False, 'pooling_mode_mean_tokens': True, 'pooling_mode_max_tokens': False, 'pooling_mode_mean_sqrt_len_tokens': False, 'pooling_mode_weightedmean_tokens': False, 'pooling_mode_lasttoken': False, 'include_prompt': True})\n",
       "  (2): Normalize()\n",
       ")>"
      ]
     },
     "execution_count": 47,
     "metadata": {},
     "output_type": "execute_result"
    }
   ],
   "source": [
    "model.get_sentence_features"
   ]
  },
  {
   "cell_type": "code",
   "execution_count": 49,
   "id": "08860ae3-6456-4e6b-920d-41b1deb93e23",
   "metadata": {},
   "outputs": [
    {
     "data": {
      "text/plain": [
       "46"
      ]
     },
     "execution_count": 49,
     "metadata": {},
     "output_type": "execute_result"
    }
   ],
   "source": [
    "# Almost 1/4th of our data (531/2255) would get truncated as it exceeds the max_seq_length of 384. But it shouldn't affect the performance too much.\n",
    "\n",
    "i = [len(i) for i in meta_data if len(i) > 384]\n",
    "len(i)"
   ]
  },
  {
   "cell_type": "code",
   "execution_count": 51,
   "id": "8080e040-353e-4ff2-8a79-ee529efca7d1",
   "metadata": {},
   "outputs": [
    {
     "data": {
      "text/plain": [
       "(2255, 768)"
      ]
     },
     "execution_count": 51,
     "metadata": {},
     "output_type": "execute_result"
    }
   ],
   "source": [
    "embeddings.shape"
   ]
  },
  {
   "cell_type": "code",
   "execution_count": 53,
   "id": "8f881c8a-d7bb-4d62-9e86-ade39098f53d",
   "metadata": {},
   "outputs": [],
   "source": [
    "cos_sim_data = pd.DataFrame(cosine_similarity(embeddings))"
   ]
  },
  {
   "cell_type": "code",
   "execution_count": 77,
   "id": "cd7b122a-1db1-43e9-ae61-da00432f7d61",
   "metadata": {},
   "outputs": [],
   "source": [
    "cos_sim_data.to_excel(\"testin.xlsx\")"
   ]
  },
  {
   "cell_type": "code",
   "execution_count": 55,
   "id": "671e96b3-f0cd-44fc-b233-df341912dc98",
   "metadata": {},
   "outputs": [],
   "source": [
    "df = df.reset_index()\n",
    "data = df[['title','genres','year']]\n",
    "indices = pd.Series(df.index, index=df['title'])"
   ]
  },
  {
   "cell_type": "code",
   "execution_count": 57,
   "id": "4992abb7-c0d8-4b29-9427-0e70f012b39a",
   "metadata": {},
   "outputs": [],
   "source": [
    "def get_recommendations(title, N = 30):\n",
    "    idx = indices[title]\n",
    "    sim_scores = list(enumerate(cos_sim_data[idx]))\n",
    "    sim_scores = sorted(sim_scores, key=lambda x: x[1], reverse=True)\n",
    "    sim_scores = sim_scores[1:N+1]\n",
    "    movie_indices = [i[0] for i in sim_scores]\n",
    "    sim_scores = pd.DataFrame(sim_scores, columns = ['index', 'similarity_score']) \n",
    "    final_data = data.iloc[movie_indices]\n",
    "    final_data = final_data.merge(sim_scores, left_index = True, right_on ='index')\n",
    "    final_data['similarity_score'] = round(final_data['similarity_score']*100,2)\n",
    "    del final_data['index']\n",
    "    return final_data"
   ]
  },
  {
   "cell_type": "code",
   "execution_count": 75,
   "id": "7c53a95a-94a7-4bb2-8e5b-7a9390eeecfe",
   "metadata": {},
   "outputs": [
    {
     "data": {
      "text/html": [
       "<div>\n",
       "<style scoped>\n",
       "    .dataframe tbody tr th:only-of-type {\n",
       "        vertical-align: middle;\n",
       "    }\n",
       "\n",
       "    .dataframe tbody tr th {\n",
       "        vertical-align: top;\n",
       "    }\n",
       "\n",
       "    .dataframe thead th {\n",
       "        text-align: right;\n",
       "    }\n",
       "</style>\n",
       "<table border=\"1\" class=\"dataframe\">\n",
       "  <thead>\n",
       "    <tr style=\"text-align: right;\">\n",
       "      <th></th>\n",
       "      <th>title</th>\n",
       "      <th>genres</th>\n",
       "      <th>year</th>\n",
       "      <th>similarity_score</th>\n",
       "    </tr>\n",
       "  </thead>\n",
       "  <tbody>\n",
       "    <tr>\n",
       "      <th>0</th>\n",
       "      <td>Chinatown</td>\n",
       "      <td>[Crime, Drama, Mystery, Thriller]</td>\n",
       "      <td>1974</td>\n",
       "      <td>82.40</td>\n",
       "    </tr>\n",
       "    <tr>\n",
       "      <th>1</th>\n",
       "      <td>Collateral</td>\n",
       "      <td>[Drama, Crime, Thriller]</td>\n",
       "      <td>2004</td>\n",
       "      <td>81.06</td>\n",
       "    </tr>\n",
       "    <tr>\n",
       "      <th>2</th>\n",
       "      <td>Out of the Furnace</td>\n",
       "      <td>[Thriller, Drama, Crime]</td>\n",
       "      <td>2013</td>\n",
       "      <td>80.74</td>\n",
       "    </tr>\n",
       "    <tr>\n",
       "      <th>3</th>\n",
       "      <td>Looper</td>\n",
       "      <td>[Action, Thriller, Science Fiction]</td>\n",
       "      <td>2012</td>\n",
       "      <td>80.45</td>\n",
       "    </tr>\n",
       "    <tr>\n",
       "      <th>4</th>\n",
       "      <td>Payback</td>\n",
       "      <td>[Drama, Action, Thriller, Crime]</td>\n",
       "      <td>1999</td>\n",
       "      <td>80.43</td>\n",
       "    </tr>\n",
       "    <tr>\n",
       "      <th>5</th>\n",
       "      <td>Gone Baby Gone</td>\n",
       "      <td>[Crime, Drama, Mystery]</td>\n",
       "      <td>2007</td>\n",
       "      <td>80.29</td>\n",
       "    </tr>\n",
       "    <tr>\n",
       "      <th>6</th>\n",
       "      <td>The Jacket</td>\n",
       "      <td>[Drama, Mystery, Thriller, Fantasy]</td>\n",
       "      <td>2005</td>\n",
       "      <td>80.05</td>\n",
       "    </tr>\n",
       "    <tr>\n",
       "      <th>7</th>\n",
       "      <td>Psycho</td>\n",
       "      <td>[Drama, Horror, Thriller]</td>\n",
       "      <td>1960</td>\n",
       "      <td>79.55</td>\n",
       "    </tr>\n",
       "    <tr>\n",
       "      <th>8</th>\n",
       "      <td>Cape Fear</td>\n",
       "      <td>[Crime, Thriller]</td>\n",
       "      <td>1991</td>\n",
       "      <td>79.34</td>\n",
       "    </tr>\n",
       "    <tr>\n",
       "      <th>9</th>\n",
       "      <td>Shoot 'Em Up</td>\n",
       "      <td>[Action, Thriller, Comedy, Crime]</td>\n",
       "      <td>2007</td>\n",
       "      <td>79.21</td>\n",
       "    </tr>\n",
       "    <tr>\n",
       "      <th>10</th>\n",
       "      <td>A Most Violent Year</td>\n",
       "      <td>[Crime, Drama, Thriller]</td>\n",
       "      <td>2014</td>\n",
       "      <td>78.89</td>\n",
       "    </tr>\n",
       "    <tr>\n",
       "      <th>11</th>\n",
       "      <td>The Place Beyond the Pines</td>\n",
       "      <td>[Drama, Crime]</td>\n",
       "      <td>2013</td>\n",
       "      <td>78.74</td>\n",
       "    </tr>\n",
       "    <tr>\n",
       "      <th>12</th>\n",
       "      <td>Dog Day Afternoon</td>\n",
       "      <td>[Crime, Drama, Thriller]</td>\n",
       "      <td>1975</td>\n",
       "      <td>78.67</td>\n",
       "    </tr>\n",
       "    <tr>\n",
       "      <th>13</th>\n",
       "      <td>The Negotiator</td>\n",
       "      <td>[Action, Adventure, Crime, Drama, Mystery, Thr...</td>\n",
       "      <td>1998</td>\n",
       "      <td>78.50</td>\n",
       "    </tr>\n",
       "    <tr>\n",
       "      <th>14</th>\n",
       "      <td>True Romance</td>\n",
       "      <td>[Action, Thriller, Crime, Romance]</td>\n",
       "      <td>1993</td>\n",
       "      <td>78.29</td>\n",
       "    </tr>\n",
       "    <tr>\n",
       "      <th>15</th>\n",
       "      <td>21 Grams</td>\n",
       "      <td>[Drama, Crime, Thriller]</td>\n",
       "      <td>2003</td>\n",
       "      <td>78.24</td>\n",
       "    </tr>\n",
       "    <tr>\n",
       "      <th>16</th>\n",
       "      <td>Lucky Number Slevin</td>\n",
       "      <td>[Drama, Thriller, Crime, Mystery]</td>\n",
       "      <td>2006</td>\n",
       "      <td>78.23</td>\n",
       "    </tr>\n",
       "    <tr>\n",
       "      <th>17</th>\n",
       "      <td>Leon: The Professional</td>\n",
       "      <td>[Thriller, Crime, Drama]</td>\n",
       "      <td>1994</td>\n",
       "      <td>77.90</td>\n",
       "    </tr>\n",
       "    <tr>\n",
       "      <th>18</th>\n",
       "      <td>The Mechanic</td>\n",
       "      <td>[Action, Thriller, Crime]</td>\n",
       "      <td>2011</td>\n",
       "      <td>77.74</td>\n",
       "    </tr>\n",
       "    <tr>\n",
       "      <th>19</th>\n",
       "      <td>The Nice Guys</td>\n",
       "      <td>[Action, Comedy, Crime, Thriller]</td>\n",
       "      <td>2016</td>\n",
       "      <td>77.62</td>\n",
       "    </tr>\n",
       "  </tbody>\n",
       "</table>\n",
       "</div>"
      ],
      "text/plain": [
       "                         title  \\\n",
       "0                    Chinatown   \n",
       "1                   Collateral   \n",
       "2           Out of the Furnace   \n",
       "3                       Looper   \n",
       "4                      Payback   \n",
       "5               Gone Baby Gone   \n",
       "6                   The Jacket   \n",
       "7                       Psycho   \n",
       "8                    Cape Fear   \n",
       "9                 Shoot 'Em Up   \n",
       "10         A Most Violent Year   \n",
       "11  The Place Beyond the Pines   \n",
       "12           Dog Day Afternoon   \n",
       "13              The Negotiator   \n",
       "14                True Romance   \n",
       "15                    21 Grams   \n",
       "16         Lucky Number Slevin   \n",
       "17      Leon: The Professional   \n",
       "18                The Mechanic   \n",
       "19               The Nice Guys   \n",
       "\n",
       "                                               genres  year  similarity_score  \n",
       "0                   [Crime, Drama, Mystery, Thriller]  1974             82.40  \n",
       "1                            [Drama, Crime, Thriller]  2004             81.06  \n",
       "2                            [Thriller, Drama, Crime]  2013             80.74  \n",
       "3                 [Action, Thriller, Science Fiction]  2012             80.45  \n",
       "4                    [Drama, Action, Thriller, Crime]  1999             80.43  \n",
       "5                             [Crime, Drama, Mystery]  2007             80.29  \n",
       "6                 [Drama, Mystery, Thriller, Fantasy]  2005             80.05  \n",
       "7                           [Drama, Horror, Thriller]  1960             79.55  \n",
       "8                                   [Crime, Thriller]  1991             79.34  \n",
       "9                   [Action, Thriller, Comedy, Crime]  2007             79.21  \n",
       "10                           [Crime, Drama, Thriller]  2014             78.89  \n",
       "11                                     [Drama, Crime]  2013             78.74  \n",
       "12                           [Crime, Drama, Thriller]  1975             78.67  \n",
       "13  [Action, Adventure, Crime, Drama, Mystery, Thr...  1998             78.50  \n",
       "14                 [Action, Thriller, Crime, Romance]  1993             78.29  \n",
       "15                           [Drama, Crime, Thriller]  2003             78.24  \n",
       "16                  [Drama, Thriller, Crime, Mystery]  2006             78.23  \n",
       "17                           [Thriller, Crime, Drama]  1994             77.90  \n",
       "18                          [Action, Thriller, Crime]  2011             77.74  \n",
       "19                  [Action, Comedy, Crime, Thriller]  2016             77.62  "
      ]
     },
     "execution_count": 75,
     "metadata": {},
     "output_type": "execute_result"
    }
   ],
   "source": [
    "get_recommendations('Taxi Driver', 20)"
   ]
  },
  {
   "cell_type": "code",
   "execution_count": null,
   "id": "25c6b239-cd9f-477f-9018-e6c0d8a67c5b",
   "metadata": {},
   "outputs": [],
   "source": []
  }
 ],
 "metadata": {
  "kernelspec": {
   "display_name": "Python 3 (ipykernel)",
   "language": "python",
   "name": "python3"
  },
  "language_info": {
   "codemirror_mode": {
    "name": "ipython",
    "version": 3
   },
   "file_extension": ".py",
   "mimetype": "text/x-python",
   "name": "python",
   "nbconvert_exporter": "python",
   "pygments_lexer": "ipython3",
   "version": "3.12.4"
  }
 },
 "nbformat": 4,
 "nbformat_minor": 5
}
