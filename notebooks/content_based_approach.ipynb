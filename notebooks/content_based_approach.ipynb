{
 "cells": [
  {
   "cell_type": "raw",
   "id": "67668e0e-7fbf-4a4e-9791-471e942a62da",
   "metadata": {
    "scrolled": true
   },
   "source": [
    "!pip install -U sentence-transformers"
   ]
  },
  {
   "cell_type": "raw",
   "id": "ea50dde9-dcbb-46b6-b20c-ac5aa891dbf9",
   "metadata": {},
   "source": [
    "!pip install tf-keras"
   ]
  },
  {
   "cell_type": "code",
   "execution_count": 1,
   "id": "1ed0adc2-0ee6-4e33-8fd6-ed4ecac24f72",
   "metadata": {},
   "outputs": [
    {
     "name": "stdout",
     "output_type": "stream",
     "text": [
      "WARNING:tensorflow:From C:\\Users\\joao.franca\\AppData\\Roaming\\Python\\Python312\\site-packages\\tf_keras\\src\\losses.py:2976: The name tf.losses.sparse_softmax_cross_entropy is deprecated. Please use tf.compat.v1.losses.sparse_softmax_cross_entropy instead.\n",
      "\n"
     ]
    }
   ],
   "source": [
    "from sentence_transformers import SentenceTransformer"
   ]
  },
  {
   "cell_type": "code",
   "execution_count": null,
   "id": "b5abd616-2f84-4b9c-aa3a-91efed0ea35f",
   "metadata": {},
   "outputs": [],
   "source": [
    "from ast import literal_eval"
   ]
  },
  {
   "cell_type": "code",
   "execution_count": null,
   "id": "fb570399-9693-4309-bcad-baf366ff0d95",
   "metadata": {},
   "outputs": [],
   "source": [
    "import pandas as pd\n",
    "import numpy as np\n",
    "from sklearn.metrics.pairwise import cosine_similarity"
   ]
  },
  {
   "cell_type": "code",
   "execution_count": null,
   "id": "b292ea32-87e0-49b7-9454-33d6ecbf12fd",
   "metadata": {},
   "outputs": [],
   "source": [
    "md = pd.read_csv('... movies_metadata.csv') # dataset do tmdb com os filmes que existem tanto nele, quanto no imdb"
   ]
  },
  {
   "cell_type": "code",
   "execution_count": null,
   "id": "4f0bd323-6f6e-4e74-b39a-e78393498698",
   "metadata": {},
   "outputs": [],
   "source": [
    "m = round(md['vote_count'].quantile(0.95))  # dica: pegar so filmes com vote_count quantile > 95 (so filmes mainstream)\n",
    "C = round(md['vote_average'].mean(), 1)     # isso fara nosso sistema de rec recomendar só filme mainstream tbm\n",
    "    \n",
    "df = md[(md['vote_count'] >= m)][['id', 'title', 'year', 'vote_count', 'vote_average', 'popularity', 'genres', 'overview']]\n",
    "\n",
    "df.shape"
   ]
  },
  {
   "cell_type": "code",
   "execution_count": null,
   "id": "a8e4fe14-0467-45b6-bbea-736d658a6b96",
   "metadata": {},
   "outputs": [],
   "source": [
    "# features para ajudar > recomendacoes baseadas em keywords e elenco (creditos) daquele filme\n",
    "credits = pd.read_csv('... /credits.csv')\n",
    "keywords = pd.read_csv('... /keywords.csv')\n",
    "\n",
    "credits.drop_duplicates(inplace = True)\n",
    "keywords.drop_duplicates(inplace = True)"
   ]
  },
  {
   "cell_type": "code",
   "execution_count": null,
   "id": "296c5c18-e801-4f5c-8446-a3d1b046145e",
   "metadata": {},
   "outputs": [],
   "source": [
    "keywords['id'] = keywords['id'].astype('int')\n",
    "credits['id'] = credits['id'].astype('int')\n",
    "df['id'] = df['id'].astype('int')"
   ]
  },
  {
   "cell_type": "code",
   "execution_count": null,
   "id": "8bca323b-a540-4c96-a8cf-361d3302c0e9",
   "metadata": {},
   "outputs": [],
   "source": [
    "df = df.merge(credits, on='id')\n",
    "df = df.merge(keywords, on='id')"
   ]
  },
  {
   "cell_type": "code",
   "execution_count": null,
   "id": "4b0ced35-29ca-4134-9bf7-16736b5101e9",
   "metadata": {},
   "outputs": [],
   "source": [
    "df['cast'] = df['cast'].apply(literal_eval).apply(lambda x: [i['name'] for i in x] if isinstance(x, list) else [])\n",
    "df['cast'] = df['cast'].apply(lambda x: x[:5] if len(x) >=5 else x)"
   ]
  },
  {
   "cell_type": "code",
   "execution_count": null,
   "id": "db3fd836-72f2-4a0d-a509-c9d8c4264f9a",
   "metadata": {},
   "outputs": [],
   "source": [
    "df['keywords'] = df['keywords'].apply(literal_eval).apply(lambda x: [i['name'] for i in x] if isinstance(x, list) else [])"
   ]
  },
  {
   "cell_type": "code",
   "execution_count": null,
   "id": "ca6efd71-eb35-46cf-9ecb-cba1fd095a5a",
   "metadata": {},
   "outputs": [],
   "source": [
    "def get_director(x):\n",
    "    for i in x:\n",
    "        if i['job'] == 'Director':\n",
    "            return i['name']\n",
    "    return np.nan\n",
    "\n",
    "df['director'] = df['crew'].apply(literal_eval).apply(get_director)"
   ]
  },
  {
   "cell_type": "code",
   "execution_count": null,
   "id": "089ebc0d-a4c4-423e-8ee5-80e7b3b0fda8",
   "metadata": {},
   "outputs": [],
   "source": [
    "# Removing space between names in order to differentiate between different actors and directors\n",
    "\n",
    "df['cast'] = df['cast'].apply(lambda x: [str.lower(i.replace(\" \", \"\")) for i in x])\n",
    "df['director'] = df['director'].astype('str').apply(lambda x: str.lower(x.replace(\" \", \"\")))"
   ]
  },
  {
   "cell_type": "code",
   "execution_count": null,
   "id": "e83eba38-78be-4921-8f45-5064ba6c76d8",
   "metadata": {},
   "outputs": [],
   "source": [
    "# Changing the datatype to list to enable concatenation\n",
    "df['director'] = df['director'].apply(lambda x: [i for i in x.split()])\n",
    "\n",
    "# Creating a new column by concatenating all the relavant metadata info\n",
    "df['metadata'] = df['genres'] + df['keywords'] + df['director'] + df['cast']\n",
    "\n",
    "# Taking all the items in the metadata and joining it into a single string\n",
    "df['metadata'] = df['metadata'].apply(lambda x: ' '.join(x))"
   ]
  },
  {
   "cell_type": "code",
   "execution_count": 5,
   "id": "80375940-212c-4038-8f91-13fadc7b26c4",
   "metadata": {
    "scrolled": true
   },
   "outputs": [
    {
     "data": {
      "application/vnd.jupyter.widget-view+json": {
       "model_id": "0b766c810dbc440cac630f1282107063",
       "version_major": 2,
       "version_minor": 0
      },
      "text/plain": [
       "modules.json:   0%|          | 0.00/349 [00:00<?, ?B/s]"
      ]
     },
     "metadata": {},
     "output_type": "display_data"
    },
    {
     "name": "stderr",
     "output_type": "stream",
     "text": [
      "C:\\Users\\joao.franca\\AppData\\Roaming\\Python\\Python312\\site-packages\\huggingface_hub\\file_download.py:159: UserWarning: `huggingface_hub` cache-system uses symlinks by default to efficiently store duplicated files but your machine does not support them in C:\\Users\\joao.franca\\.cache\\huggingface\\hub\\models--sentence-transformers--all-mpnet-base-v2. Caching files will still work but in a degraded version that might require more space on your disk. This warning can be disabled by setting the `HF_HUB_DISABLE_SYMLINKS_WARNING` environment variable. For more details, see https://huggingface.co/docs/huggingface_hub/how-to-cache#limitations.\n",
      "To support symlinks on Windows, you either need to activate Developer Mode or to run Python as an administrator. In order to see activate developer mode, see this article: https://docs.microsoft.com/en-us/windows/apps/get-started/enable-your-device-for-development\n",
      "  warnings.warn(message)\n"
     ]
    },
    {
     "data": {
      "application/vnd.jupyter.widget-view+json": {
       "model_id": "5ed023c96fb34fb8a5e4449dfd8dcaed",
       "version_major": 2,
       "version_minor": 0
      },
      "text/plain": [
       "config_sentence_transformers.json:   0%|          | 0.00/116 [00:00<?, ?B/s]"
      ]
     },
     "metadata": {},
     "output_type": "display_data"
    },
    {
     "data": {
      "application/vnd.jupyter.widget-view+json": {
       "model_id": "42a7b072ce084f54aac87c7332e15fc7",
       "version_major": 2,
       "version_minor": 0
      },
      "text/plain": [
       "README.md:   0%|          | 0.00/10.6k [00:00<?, ?B/s]"
      ]
     },
     "metadata": {},
     "output_type": "display_data"
    },
    {
     "data": {
      "application/vnd.jupyter.widget-view+json": {
       "model_id": "843b029ce5914c408fcba05e70c65b66",
       "version_major": 2,
       "version_minor": 0
      },
      "text/plain": [
       "sentence_bert_config.json:   0%|          | 0.00/53.0 [00:00<?, ?B/s]"
      ]
     },
     "metadata": {},
     "output_type": "display_data"
    },
    {
     "data": {
      "application/vnd.jupyter.widget-view+json": {
       "model_id": "82206b691be54c2c8b53d5d4dcc3957d",
       "version_major": 2,
       "version_minor": 0
      },
      "text/plain": [
       "config.json:   0%|          | 0.00/571 [00:00<?, ?B/s]"
      ]
     },
     "metadata": {},
     "output_type": "display_data"
    },
    {
     "data": {
      "application/vnd.jupyter.widget-view+json": {
       "model_id": "4400ca79a7a0465daad7413a8f0183b0",
       "version_major": 2,
       "version_minor": 0
      },
      "text/plain": [
       "model.safetensors:   0%|          | 0.00/438M [00:00<?, ?B/s]"
      ]
     },
     "metadata": {},
     "output_type": "display_data"
    },
    {
     "data": {
      "application/vnd.jupyter.widget-view+json": {
       "model_id": "57bcbe74e1fe482a9f606994ffc92379",
       "version_major": 2,
       "version_minor": 0
      },
      "text/plain": [
       "tokenizer_config.json:   0%|          | 0.00/363 [00:00<?, ?B/s]"
      ]
     },
     "metadata": {},
     "output_type": "display_data"
    },
    {
     "data": {
      "application/vnd.jupyter.widget-view+json": {
       "model_id": "fa6d492c064445ee89f9164cd06342d5",
       "version_major": 2,
       "version_minor": 0
      },
      "text/plain": [
       "vocab.txt:   0%|          | 0.00/232k [00:00<?, ?B/s]"
      ]
     },
     "metadata": {},
     "output_type": "display_data"
    },
    {
     "data": {
      "application/vnd.jupyter.widget-view+json": {
       "model_id": "4297286186f741beab5c98f73e942541",
       "version_major": 2,
       "version_minor": 0
      },
      "text/plain": [
       "tokenizer.json:   0%|          | 0.00/466k [00:00<?, ?B/s]"
      ]
     },
     "metadata": {},
     "output_type": "display_data"
    },
    {
     "data": {
      "application/vnd.jupyter.widget-view+json": {
       "model_id": "96fae6104a014532b31123abb5907948",
       "version_major": 2,
       "version_minor": 0
      },
      "text/plain": [
       "special_tokens_map.json:   0%|          | 0.00/239 [00:00<?, ?B/s]"
      ]
     },
     "metadata": {},
     "output_type": "display_data"
    },
    {
     "name": "stderr",
     "output_type": "stream",
     "text": [
      "C:\\Users\\joao.franca\\AppData\\Roaming\\Python\\Python312\\site-packages\\transformers\\tokenization_utils_base.py:1601: FutureWarning: `clean_up_tokenization_spaces` was not set. It will be set to `True` by default. This behavior will be depracted in transformers v4.45, and will be then set to `False` by default. For more details check this issue: https://github.com/huggingface/transformers/issues/31884\n",
      "  warnings.warn(\n"
     ]
    },
    {
     "data": {
      "application/vnd.jupyter.widget-view+json": {
       "model_id": "a2d36a82c4694d77a4663d3bacb53854",
       "version_major": 2,
       "version_minor": 0
      },
      "text/plain": [
       "1_Pooling/config.json:   0%|          | 0.00/190 [00:00<?, ?B/s]"
      ]
     },
     "metadata": {},
     "output_type": "display_data"
    }
   ],
   "source": [
    "model = SentenceTransformer('all-mpnet-base-v2')"
   ]
  },
  {
   "cell_type": "code",
   "execution_count": null,
   "id": "64b4c416-f987-48fc-9168-e50517674760",
   "metadata": {},
   "outputs": [],
   "source": [
    "meta_data = np.array(df['metadata'])\n",
    "embeddings = model.encode(text_data, show_progress_bar=True)"
   ]
  },
  {
   "cell_type": "code",
   "execution_count": null,
   "id": "ab16cb87-16a2-4daf-b992-e653abd571a0",
   "metadata": {},
   "outputs": [],
   "source": [
    "model.get_sentence_features"
   ]
  },
  {
   "cell_type": "code",
   "execution_count": null,
   "id": "08860ae3-6456-4e6b-920d-41b1deb93e23",
   "metadata": {},
   "outputs": [],
   "source": [
    "# Almost 1/4th of our data (531/2255) would get truncated as it exceeds the max_seq_length of 384. But it shouldn't affect the performance too much.\n",
    "\n",
    "i = [len(i) for i in text_data if len(i) > 384]\n",
    "len(i)"
   ]
  },
  {
   "cell_type": "code",
   "execution_count": null,
   "id": "04410c29-ebd9-463b-83d4-f4e57f598e2c",
   "metadata": {},
   "outputs": [],
   "source": [
    "embeddings.shape\n",
    "cos_sim_data = pd.DataFrame(cosine_similarity(embeddings))"
   ]
  },
  {
   "cell_type": "code",
   "execution_count": null,
   "id": "671e96b3-f0cd-44fc-b233-df341912dc98",
   "metadata": {},
   "outputs": [],
   "source": [
    "df = df.reset_index()\n",
    "data = df[['title','genres','year']]\n",
    "indices = pd.Series(df.index, index=df['title'])"
   ]
  },
  {
   "cell_type": "code",
   "execution_count": null,
   "id": "4992abb7-c0d8-4b29-9427-0e70f012b39a",
   "metadata": {},
   "outputs": [],
   "source": [
    "def get_recommendations(title, N = 30):\n",
    "    idx = indices[title]\n",
    "    sim_scores = list(enumerate(cos_sim_data[idx]))\n",
    "    sim_scores = sorted(sim_scores, key=lambda x: x[1], reverse=True)\n",
    "    sim_scores = sim_scores[1:N+1]\n",
    "    movie_indices = [i[0] for i in sim_scores]\n",
    "    sim_scores = pd.DataFrame(sim_scores, columns = ['index', 'similarity_score']) \n",
    "    final_data = data.iloc[movie_indices]\n",
    "    final_data = final_data.merge(sim_scores, left_index = True, right_on ='index')\n",
    "    final_data['similarity_score'] = round(final_data['similarity_score']*100,2)\n",
    "    del final_data['index']\n",
    "    return final_data"
   ]
  },
  {
   "cell_type": "code",
   "execution_count": null,
   "id": "7c53a95a-94a7-4bb2-8e5b-7a9390eeecfe",
   "metadata": {},
   "outputs": [],
   "source": [
    "get_recommendations('The Godfather', 15)"
   ]
  }
 ],
 "metadata": {
  "kernelspec": {
   "display_name": "Python 3 (ipykernel)",
   "language": "python",
   "name": "python3"
  },
  "language_info": {
   "codemirror_mode": {
    "name": "ipython",
    "version": 3
   },
   "file_extension": ".py",
   "mimetype": "text/x-python",
   "name": "python",
   "nbconvert_exporter": "python",
   "pygments_lexer": "ipython3",
   "version": "3.12.4"
  }
 },
 "nbformat": 4,
 "nbformat_minor": 5
}
